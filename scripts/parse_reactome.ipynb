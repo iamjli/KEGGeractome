{
 "cells": [
  {
   "cell_type": "code",
   "execution_count": 1,
   "metadata": {},
   "outputs": [],
   "source": [
    "import pandas as pd\n",
    "import networkx as nx\n",
    "\n",
    "import re"
   ]
  },
  {
   "cell_type": "code",
   "execution_count": 2,
   "metadata": {},
   "outputs": [],
   "source": [
    "flatten = lambda l: [item for sublist in l for item in sublist]"
   ]
  },
  {
   "cell_type": "code",
   "execution_count": 49,
   "metadata": {},
   "outputs": [
    {
     "data": {
      "text/html": [
       "<div>\n",
       "<style scoped>\n",
       "    .dataframe tbody tr th:only-of-type {\n",
       "        vertical-align: middle;\n",
       "    }\n",
       "\n",
       "    .dataframe tbody tr th {\n",
       "        vertical-align: top;\n",
       "    }\n",
       "\n",
       "    .dataframe thead th {\n",
       "        text-align: right;\n",
       "    }\n",
       "</style>\n",
       "<table border=\"1\" class=\"dataframe\">\n",
       "  <thead>\n",
       "    <tr style=\"text-align: right;\">\n",
       "      <th></th>\n",
       "      <th>Gene1</th>\n",
       "      <th>Gene2</th>\n",
       "      <th>Annotation</th>\n",
       "      <th>Direction</th>\n",
       "      <th>Score</th>\n",
       "    </tr>\n",
       "  </thead>\n",
       "  <tbody>\n",
       "    <tr>\n",
       "      <th>2</th>\n",
       "      <td>&lt;ALPHA&gt;&lt;BETA&gt;CREB-1</td>\n",
       "      <td>AKT1</td>\n",
       "      <td>activated by</td>\n",
       "      <td>&lt;-</td>\n",
       "      <td>1.0</td>\n",
       "    </tr>\n",
       "    <tr>\n",
       "      <th>3</th>\n",
       "      <td>&lt;ALPHA&gt;&lt;BETA&gt;CREB-1</td>\n",
       "      <td>ARNT</td>\n",
       "      <td>complex; input</td>\n",
       "      <td>-</td>\n",
       "      <td>1.0</td>\n",
       "    </tr>\n",
       "    <tr>\n",
       "      <th>4</th>\n",
       "      <td>&lt;ALPHA&gt;&lt;BETA&gt;CREB-1</td>\n",
       "      <td>ASPH</td>\n",
       "      <td>inhibited by</td>\n",
       "      <td>|-</td>\n",
       "      <td>1.0</td>\n",
       "    </tr>\n",
       "    <tr>\n",
       "      <th>5</th>\n",
       "      <td>&lt;ALPHA&gt;&lt;BETA&gt;CREB-1</td>\n",
       "      <td>CAMK2A</td>\n",
       "      <td>activated by</td>\n",
       "      <td>&lt;-</td>\n",
       "      <td>1.0</td>\n",
       "    </tr>\n",
       "    <tr>\n",
       "      <th>6</th>\n",
       "      <td>&lt;ALPHA&gt;&lt;BETA&gt;CREB-1</td>\n",
       "      <td>CAMK2G</td>\n",
       "      <td>activated by</td>\n",
       "      <td>&lt;-</td>\n",
       "      <td>1.0</td>\n",
       "    </tr>\n",
       "  </tbody>\n",
       "</table>\n",
       "</div>"
      ],
      "text/plain": [
       "                 Gene1   Gene2      Annotation Direction  Score\n",
       "2  <ALPHA><BETA>CREB-1    AKT1    activated by        <-    1.0\n",
       "3  <ALPHA><BETA>CREB-1    ARNT  complex; input         -    1.0\n",
       "4  <ALPHA><BETA>CREB-1    ASPH    inhibited by        |-    1.0\n",
       "5  <ALPHA><BETA>CREB-1  CAMK2A    activated by        <-    1.0\n",
       "6  <ALPHA><BETA>CREB-1  CAMK2G    activated by        <-    1.0"
      ]
     },
     "execution_count": 49,
     "metadata": {},
     "output_type": "execute_result"
    }
   ],
   "source": [
    "reactome_df = pd.read_csv('../data/reactome/FIsInGene_022717_with_annotations.txt', sep='\\t')\n",
    "# Get only high confidence interactions\n",
    "reactome_df = reactome_df[(~reactome_df['Annotation'].str.contains('predict')) & (reactome_df['Score'] == 1)]\n",
    "reactome_df.head()"
   ]
  },
  {
   "cell_type": "code",
   "execution_count": 10,
   "metadata": {},
   "outputs": [],
   "source": [
    "def _populate_edge_attributes(source, target, edge_type, interactions): \n",
    "\n",
    "    # Attribute `effect` takes values 0 (---), 1 (-->), 2 (<->), or -1 (--|) to indicate cases where\n",
    "    # orientation is unknown, the edge is activating, the edge is bidirectional (protein complex), or the edge is inhibitory.\n",
    "    # Perhaps add `binding` as an attribute? Interactions? \n",
    "    edge_attributes = { 'source': source, 'target': target, 'type': edge_type, \n",
    "                        'effect': 0, 'indirect': 0, 'modification': \"\" }\n",
    "\n",
    "    # Attributes must be updated in two steps, since descriptors examined in the second loop\n",
    "    # are more specific than those in the first, and should be used to overwrite them. \n",
    "    for interaction in interactions: \n",
    "\n",
    "        if   interaction == 'binding/association': edge_attributes.update({ 'effect': 2 })\n",
    "        elif interaction == 'protein complex':\t   edge_attributes.update({ 'effect': 2 }) # not standard type, but including for clarity\n",
    "        elif interaction == 'bidirected':\t   \t   edge_attributes.update({ 'effect': 2 }) # not standard type, but including for clarity\n",
    "        elif interaction == 'dissociation': \t   edge_attributes.update({ 'effect': 1 })\n",
    "        elif interaction == 'missing interaction': edge_attributes.update({ 'effect': 0 })\n",
    "        elif interaction == 'indirect effect':\t   edge_attributes.update({ 'effect': 1, 'indirect': 1 })\n",
    "        else: pass\n",
    "\n",
    "    for interaction in interactions: \n",
    "\n",
    "        if   interaction == 'phosphorylation':\t edge_attributes.update({ 'effect': 1, 'modification': \"+p\" })\n",
    "        elif interaction == 'dephosphorylation': edge_attributes.update({ 'effect': 1, 'modification': \"-p\" })\n",
    "        elif interaction == 'glycosylation': \t edge_attributes.update({ 'effect': 1, 'modification': \"+g\" })\n",
    "        elif interaction == 'ubiquitination': \t edge_attributes.update({ 'effect': 1, 'modification': \"+u\" })\n",
    "        elif interaction == 'methylation': \t\t edge_attributes.update({ 'effect': 1, 'modification': \"+m\" })\n",
    "\n",
    "    for interaction in interactions: \n",
    "\n",
    "        if   interaction == 'activation': \t   edge_attributes.update({ 'effect':  1 })\n",
    "        elif interaction == 'inhibition': \t   edge_attributes.update({ 'effect': -1 })\n",
    "        elif interaction == 'expression': \t   edge_attributes.update({ 'effect':  1, 'modification': 'e'})\n",
    "        elif interaction == 'repression': \t   edge_attributes.update({ 'effect': -1, 'modification': 'e'})\n",
    "        else: pass\n",
    "\n",
    "    return edge_attributes"
   ]
  },
  {
   "cell_type": "code",
   "execution_count": 47,
   "metadata": {},
   "outputs": [],
   "source": [
    "interaction_attribs = []\n",
    "\n",
    "for _, row in reactome_df.iterrows():\n",
    "    \n",
    "    gene1, gene2, annotation, direction, _ = row.tolist()\n",
    "    \n",
    "    interactions = []\n",
    "    \n",
    "    if 'binding/association' in annotation: interactions.append('binding/association')\n",
    "    if 'compound' in annotation: interactions.append('protein complex')\n",
    "    if 'complex' in annotation: interactions.append('protein complex')\n",
    "    if 'dissociat' in annotation: interactions.append('dissociation')\n",
    "    if 'indirect' in annotation: interactions.append('indirect effect')        \n",
    "    \n",
    "    if 'dephosphoryl' in annotation: interactions.append('dephosphorylation')\n",
    "    elif 'phosphoryl' in annotation: interactions.append('phosphorylation')\n",
    "    if 'glycosylat' in annotation: interactions.append('glycosylation')\n",
    "    if 'ubiquitinat' in annotation: interactions.append('ubiquitination')\n",
    "    if 'methylat' in annotation: interactions.append('methylation')\n",
    "        \n",
    "    if 'activ' in annotation: interactions.append('activation')\n",
    "    if 'inhibit' in annotation: interactions.append('inhibition')\n",
    "    if 'express' in annotation: interactions.append('expression')\n",
    "    if 'repress' in annotation: interactions.append('repression')\n",
    "        \n",
    "    if '->' in direction: \n",
    "        interactions.append('activation')\n",
    "        interaction_attribs.append(_populate_edge_attributes(gene1, gene2, 'reactome', interactions))\n",
    "        \n",
    "    if '<-' in direction: \n",
    "        interactions.append('activation')\n",
    "        interaction_attribs.append(_populate_edge_attributes(gene2, gene1, 'reactome', interactions))\n",
    "        \n",
    "    if '-|' in direction: \n",
    "        interactions.append('inhibition')\n",
    "        interaction_attribs.append(_populate_edge_attributes(gene1, gene2, 'reactome', interactions))\n",
    "        \n",
    "    if '|-' in direction: \n",
    "        interactions.append('inhibition')\n",
    "        interaction_attribs.append(_populate_edge_attributes(gene2, gene1, 'reactome', interactions))\n",
    "        \n",
    "    if direction == '-': \n",
    "        interactions.append('bidirected')\n",
    "        interaction_attribs.append(_populate_edge_attributes(gene1, gene2, 'reactome', interactions))\n",
    "        interaction_attribs.append(_populate_edge_attributes(gene2, gene1, 'reactome', interactions))"
   ]
  },
  {
   "cell_type": "code",
   "execution_count": 54,
   "metadata": {
    "scrolled": true
   },
   "outputs": [
    {
     "data": {
      "text/html": [
       "<div>\n",
       "<style scoped>\n",
       "    .dataframe tbody tr th:only-of-type {\n",
       "        vertical-align: middle;\n",
       "    }\n",
       "\n",
       "    .dataframe tbody tr th {\n",
       "        vertical-align: top;\n",
       "    }\n",
       "\n",
       "    .dataframe thead th {\n",
       "        text-align: right;\n",
       "    }\n",
       "</style>\n",
       "<table border=\"1\" class=\"dataframe\">\n",
       "  <thead>\n",
       "    <tr style=\"text-align: right;\">\n",
       "      <th></th>\n",
       "      <th>source</th>\n",
       "      <th>target</th>\n",
       "      <th>effect</th>\n",
       "      <th>indirect</th>\n",
       "      <th>modification</th>\n",
       "      <th>type</th>\n",
       "    </tr>\n",
       "  </thead>\n",
       "  <tbody>\n",
       "    <tr>\n",
       "      <th>0</th>\n",
       "      <td>AKT1</td>\n",
       "      <td>&lt;ALPHA&gt;&lt;BETA&gt;CREB-1</td>\n",
       "      <td>1</td>\n",
       "      <td>0</td>\n",
       "      <td></td>\n",
       "      <td>reactome</td>\n",
       "    </tr>\n",
       "    <tr>\n",
       "      <th>1</th>\n",
       "      <td>&lt;ALPHA&gt;&lt;BETA&gt;CREB-1</td>\n",
       "      <td>ARNT</td>\n",
       "      <td>2</td>\n",
       "      <td>0</td>\n",
       "      <td></td>\n",
       "      <td>reactome</td>\n",
       "    </tr>\n",
       "    <tr>\n",
       "      <th>2</th>\n",
       "      <td>ARNT</td>\n",
       "      <td>&lt;ALPHA&gt;&lt;BETA&gt;CREB-1</td>\n",
       "      <td>2</td>\n",
       "      <td>0</td>\n",
       "      <td></td>\n",
       "      <td>reactome</td>\n",
       "    </tr>\n",
       "    <tr>\n",
       "      <th>3</th>\n",
       "      <td>ASPH</td>\n",
       "      <td>&lt;ALPHA&gt;&lt;BETA&gt;CREB-1</td>\n",
       "      <td>-1</td>\n",
       "      <td>0</td>\n",
       "      <td></td>\n",
       "      <td>reactome</td>\n",
       "    </tr>\n",
       "    <tr>\n",
       "      <th>4</th>\n",
       "      <td>CAMK2A</td>\n",
       "      <td>&lt;ALPHA&gt;&lt;BETA&gt;CREB-1</td>\n",
       "      <td>1</td>\n",
       "      <td>0</td>\n",
       "      <td></td>\n",
       "      <td>reactome</td>\n",
       "    </tr>\n",
       "  </tbody>\n",
       "</table>\n",
       "</div>"
      ],
      "text/plain": [
       "                source               target  effect  indirect modification  \\\n",
       "0                 AKT1  <ALPHA><BETA>CREB-1       1         0                \n",
       "1  <ALPHA><BETA>CREB-1                 ARNT       2         0                \n",
       "2                 ARNT  <ALPHA><BETA>CREB-1       2         0                \n",
       "3                 ASPH  <ALPHA><BETA>CREB-1      -1         0                \n",
       "4               CAMK2A  <ALPHA><BETA>CREB-1       1         0                \n",
       "\n",
       "       type  \n",
       "0  reactome  \n",
       "1  reactome  \n",
       "2  reactome  \n",
       "3  reactome  \n",
       "4  reactome  "
      ]
     },
     "execution_count": 54,
     "metadata": {},
     "output_type": "execute_result"
    }
   ],
   "source": [
    "reactome_edges_df = pd.DataFrame(interaction_attribs)\n",
    "reactome_edges_df = reactome_edges_df[['source', 'target', 'effect', 'indirect', 'modification', 'type']]\n",
    "reactome_edges_df.head()"
   ]
  },
  {
   "cell_type": "code",
   "execution_count": 55,
   "metadata": {
    "scrolled": true
   },
   "outputs": [
    {
     "data": {
      "text/plain": [
       "(298833, 6)"
      ]
     },
     "execution_count": 55,
     "metadata": {},
     "output_type": "execute_result"
    }
   ],
   "source": [
    "reactome_edges_df.shape"
   ]
  },
  {
   "cell_type": "code",
   "execution_count": 58,
   "metadata": {},
   "outputs": [],
   "source": [
    "reactomeX = nx.from_pandas_edgelist(reactome_edges_df, edge_attr=True, create_using=nx.DiGraph())"
   ]
  },
  {
   "cell_type": "code",
   "execution_count": 59,
   "metadata": {},
   "outputs": [
    {
     "data": {
      "text/plain": [
       "'Name: \\nType: DiGraph\\nNumber of nodes: 9905\\nNumber of edges: 298833\\nAverage in degree:  30.1699\\nAverage out degree:  30.1699'"
      ]
     },
     "execution_count": 59,
     "metadata": {},
     "output_type": "execute_result"
    }
   ],
   "source": [
    "nx.write_gpickle(reactomeX, '../output/reactomeX_v1.0.p')"
   ]
  },
  {
   "cell_type": "markdown",
   "metadata": {},
   "source": [
    "# Extra"
   ]
  },
  {
   "cell_type": "code",
   "execution_count": 41,
   "metadata": {
    "scrolled": true
   },
   "outputs": [
    {
     "data": {
      "text/plain": [
       "{' ECrel: compound',\n",
       " ' GErel: expression',\n",
       " ' GErel: expression by',\n",
       " ' GErel: repression by',\n",
       " ' PPrel',\n",
       " ' PPrel: activation',\n",
       " ' PPrel: activation binding/association',\n",
       " ' PPrel: activation by',\n",
       " ' PPrel: binding/association',\n",
       " ' PPrel: compound',\n",
       " ' PPrel: dephosphorylation',\n",
       " ' PPrel: dissociation',\n",
       " ' PPrel: expression',\n",
       " ' PPrel: expression by',\n",
       " ' PPrel: indirect effect',\n",
       " ' PPrel: inhibition',\n",
       " ' PPrel: inhibition by',\n",
       " ' PPrel: phosphorylation',\n",
       " ' PPrel: phosphorylation by',\n",
       " ' PPrel: ubiquitination',\n",
       " ' activate',\n",
       " ' activation',\n",
       " ' activation by',\n",
       " ' binding/association',\n",
       " ' catalyze',\n",
       " ' catalyzion by',\n",
       " ' complex',\n",
       " ' dephosphorylation',\n",
       " ' dissociation',\n",
       " ' expression',\n",
       " ' expression regulates',\n",
       " ' expression regulation by',\n",
       " ' glycosylation',\n",
       " ' indirect effect',\n",
       " ' inhibit',\n",
       " ' inhibite',\n",
       " ' inhibition',\n",
       " ' inhibition by',\n",
       " ' input',\n",
       " ' interaction',\n",
       " ' methylation',\n",
       " ' phosphorylation',\n",
       " ' phosphorylation by',\n",
       " ' reaction',\n",
       " ' ubiquitination',\n",
       " 'ECrel: activation',\n",
       " 'ECrel: compound',\n",
       " 'GErel: expression',\n",
       " 'GErel: expression by',\n",
       " 'GErel: inhibition',\n",
       " 'GErel: repression',\n",
       " 'GErel: repression by',\n",
       " 'PCrel: activation',\n",
       " 'PCrel: activation by',\n",
       " 'PCrel: binding/association',\n",
       " 'PCrel: inhibition',\n",
       " 'PCrel: inhibition by',\n",
       " 'PPrel',\n",
       " 'PPrel: activation',\n",
       " 'PPrel: activation binding/association',\n",
       " 'PPrel: activation by',\n",
       " 'PPrel: binding/association',\n",
       " 'PPrel: compound',\n",
       " 'PPrel: dephosphorylation',\n",
       " 'PPrel: dissociation',\n",
       " 'PPrel: expression',\n",
       " 'PPrel: expression by',\n",
       " 'PPrel: glycosylation',\n",
       " 'PPrel: indirect effect',\n",
       " 'PPrel: inhibition',\n",
       " 'PPrel: inhibition by',\n",
       " 'PPrel: inhibition glycosylation',\n",
       " 'PPrel: phosphorylation',\n",
       " 'PPrel: phosphorylation by',\n",
       " 'PPrel: state change',\n",
       " 'PPrel: ubiquitination',\n",
       " 'activate',\n",
       " 'activation by',\n",
       " 'catalyze',\n",
       " 'catalyzion by',\n",
       " 'complex',\n",
       " 'expression regulates',\n",
       " 'expression regulation by',\n",
       " 'inhibit',\n",
       " 'inhibite',\n",
       " 'inhibition by',\n",
       " 'input',\n",
       " 'interaction',\n",
       " 'reaction'}"
      ]
     },
     "execution_count": 41,
     "metadata": {},
     "output_type": "execute_result"
    }
   ],
   "source": [
    "tags = set([x.replace('ed', 'ion') for x in flatten([re.split(\"[;,]\", x) for x in reactome_df['Annotation']])])\n",
    "tags"
   ]
  },
  {
   "cell_type": "code",
   "execution_count": 40,
   "metadata": {},
   "outputs": [
    {
     "name": "stdout",
     "output_type": "stream",
     "text": [
      "interaction\n",
      " catalyzed by\n",
      " input\n",
      " interaction\n",
      "reaction\n",
      " catalyze\n",
      " reaction\n",
      "catalyze\n",
      "catalyzed by\n",
      "input\n"
     ]
    }
   ],
   "source": [
    "for tag in tags:\n",
    "    if 'activ' in tag: \n",
    "        pass\n",
    "    elif 'phosphoryl' in tag: \n",
    "        pass\n",
    "    elif 'inhibit' in tag: pass\n",
    "    elif 'express' in tag: pass\n",
    "    elif 'repress' in tag: pass\n",
    "    elif 'indirect' in tag: pass\n",
    "    elif 'binding/association' in tag: pass\n",
    "    elif 'ubiquitinat' in tag: pass\n",
    "    elif 'compound' in tag: pass\n",
    "    elif 'complex' in tag: pass\n",
    "    elif 'glycosylat' in tag: pass\n",
    "    elif 'dissociat' in tag: pass\n",
    "    elif 'methylation' in tag: pass\n",
    "    elif 'PPrel' in tag: pass\n",
    "    elif 'predict' in tag: pass\n",
    "    else: \n",
    "        print(tag)"
   ]
  },
  {
   "cell_type": "code",
   "execution_count": null,
   "metadata": {},
   "outputs": [],
   "source": []
  }
 ],
 "metadata": {
  "kernelspec": {
   "display_name": "Python 3",
   "language": "python",
   "name": "python3"
  },
  "language_info": {
   "codemirror_mode": {
    "name": "ipython",
    "version": 3
   },
   "file_extension": ".py",
   "mimetype": "text/x-python",
   "name": "python",
   "nbconvert_exporter": "python",
   "pygments_lexer": "ipython3",
   "version": "3.6.5"
  }
 },
 "nbformat": 4,
 "nbformat_minor": 2
}
